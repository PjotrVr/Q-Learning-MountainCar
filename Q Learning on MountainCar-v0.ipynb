{
 "cells": [
  {
   "cell_type": "code",
   "execution_count": 1,
   "id": "d0ced0f7",
   "metadata": {},
   "outputs": [],
   "source": [
    "import gym\n",
    "import matplotlib.pyplot as plt\n",
    "from PIL import Image\n",
    "import numpy as np"
   ]
  },
  {
   "cell_type": "code",
   "execution_count": 2,
   "id": "ec7ca829",
   "metadata": {},
   "outputs": [
    {
     "data": {
      "text/plain": [
       "(3, (2,))"
      ]
     },
     "execution_count": 2,
     "metadata": {},
     "output_type": "execute_result"
    }
   ],
   "source": [
    "env = gym.make(\"MountainCar-v0\")\n",
    "env._max_episode_steps = 1000\n",
    "env.action_space.n, env.observation_space.shape"
   ]
  },
  {
   "cell_type": "code",
   "execution_count": 3,
   "id": "73e040c3",
   "metadata": {},
   "outputs": [
    {
     "data": {
      "text/plain": [
       "(Discrete(3), Box([-1.2  -0.07], [0.6  0.07], (2,), float32))"
      ]
     },
     "execution_count": 3,
     "metadata": {},
     "output_type": "execute_result"
    }
   ],
   "source": [
    "env.action_space, env.observation_space"
   ]
  },
  {
   "cell_type": "code",
   "execution_count": 4,
   "id": "2d4ad6ae",
   "metadata": {},
   "outputs": [
    {
     "name": "stderr",
     "output_type": "stream",
     "text": [
      "C:\\Users\\Petar\\AppData\\Local\\Packages\\PythonSoftwareFoundation.Python.3.9_qbz5n2kfra8p0\\LocalCache\\local-packages\\Python39\\site-packages\\pyglet\\image\\codecs\\wic.py:289: UserWarning: [WinError -2147417850] Cannot change thread mode after it is set\n",
      "  warnings.warn(str(err))\n"
     ]
    },
    {
     "name": "stdout",
     "output_type": "stream",
     "text": [
      "Total reward is: -1000.0\n"
     ]
    }
   ],
   "source": [
    "# Testing on random actions\n",
    "env.reset()\n",
    "done = False\n",
    "score = 0\n",
    "frames = []\n",
    "\n",
    "while not done:\n",
    "    action = env.action_space.sample()\n",
    "    new_state, reward, done, info = env.step(action)\n",
    "    \n",
    "    score += reward\n",
    "    frames.append(Image.fromarray(env.render(mode=\"rgb_array\")))\n",
    "    \n",
    "print(f\"Total reward is: {score}\")\n",
    "env.close()"
   ]
  },
  {
   "cell_type": "code",
   "execution_count": 5,
   "id": "d8ad1a6d",
   "metadata": {},
   "outputs": [
    {
     "data": {
      "image/png": "[encoded data removed]",
      "text/plain": [
       "<PIL.Image.Image image mode=RGB size=600x400 at 0x21B693C79D0>"
      ]
     },
     "execution_count": 5,
     "metadata": {},
     "output_type": "execute_result"
    }
   ],
   "source": [
    "frames[0]"
   ]
  },
  {
   "cell_type": "code",
   "execution_count": 6,
   "id": "7322313e",
   "metadata": {},
   "outputs": [],
   "source": [
    "# Creating a gif\n",
    "frames[0].save(\"MountainCar Q Learning Before Training Random Movement.gif\", save_all=True, append_images=frames[1:], duration=20, loop=0)"
   ]
  },
  {
   "cell_type": "code",
   "execution_count": 7,
   "id": "29bd19da",
   "metadata": {},
   "outputs": [
    {
     "data": {
      "text/plain": [
       "array([0.19903757, 0.06437709], dtype=float32)"
      ]
     },
     "execution_count": 7,
     "metadata": {},
     "output_type": "execute_result"
    }
   ],
   "source": [
    "env.observation_space.sample()"
   ]
  },
  {
   "cell_type": "code",
   "execution_count": 8,
   "id": "e21d3f49",
   "metadata": {},
   "outputs": [
    {
     "data": {
      "text/plain": [
       "(array([-1.2 , -0.07], dtype=float32), array([0.6 , 0.07], dtype=float32))"
      ]
     },
     "execution_count": 8,
     "metadata": {},
     "output_type": "execute_result"
    }
   ],
   "source": [
    "env.observation_space.low, env.observation_space.high"
   ]
  },
  {
   "cell_type": "code",
   "execution_count": 9,
   "id": "5b60cb63",
   "metadata": {},
   "outputs": [],
   "source": [
    "position_space = np.linspace(env.observation_space.low[0], env.observation_space.high[0], 20)\n",
    "velocity_space = np.linspace(env.observation_space.low[1], env.observation_space.high[1], 20)"
   ]
  },
  {
   "cell_type": "code",
   "execution_count": 10,
   "id": "c415111c",
   "metadata": {},
   "outputs": [
    {
     "data": {
      "text/plain": [
       "array([-1.20000005, -1.1052632 , -1.01052636, -0.91578951, -0.82105266,\n",
       "       -0.72631582, -0.63157897, -0.53684213, -0.44210528, -0.34736843,\n",
       "       -0.25263159, -0.15789474, -0.0631579 ,  0.03157895,  0.12631579,\n",
       "        0.22105264,  0.31578949,  0.41052633,  0.50526318,  0.60000002])"
      ]
     },
     "execution_count": 10,
     "metadata": {},
     "output_type": "execute_result"
    }
   ],
   "source": [
    "position_space"
   ]
  },
  {
   "cell_type": "code",
   "execution_count": 11,
   "id": "28741fb0",
   "metadata": {},
   "outputs": [
    {
     "data": {
      "text/plain": [
       "array([-0.07      , -0.06263158, -0.05526316, -0.04789474, -0.04052632,\n",
       "       -0.03315789, -0.02578947, -0.01842105, -0.01105263, -0.00368421,\n",
       "        0.00368421,  0.01105263,  0.01842105,  0.02578947,  0.03315789,\n",
       "        0.04052632,  0.04789474,  0.05526316,  0.06263158,  0.07      ])"
      ]
     },
     "execution_count": 11,
     "metadata": {},
     "output_type": "execute_result"
    }
   ],
   "source": [
    "velocity_space"
   ]
  },
  {
   "cell_type": "code",
   "execution_count": 12,
   "id": "06b34292",
   "metadata": {},
   "outputs": [],
   "source": [
    "# We want to transform continues observation state into discrete observation space\n",
    "# Here we use bucket system where we if we have buckets [0, 1, 2] and value 1.324 it will be transformed to 1\n",
    "# in other scenario where we have value 2.5 it will be transformed into 2\n",
    "def get_state(observation):\n",
    "    position, velocity = observation\n",
    "    position_bin = int(np.digitize(position, position_space))\n",
    "    velocity_bin = int(np.digitize(velocity, velocity_space))\n",
    "\n",
    "    return position_bin, velocity_bin"
   ]
  },
  {
   "cell_type": "code",
   "execution_count": 13,
   "id": "3368dc55",
   "metadata": {},
   "outputs": [],
   "source": [
    "def get_max_action(Q_table, state, actions=[0, 1, 2]):\n",
    "    values = np.array([Q_table[state, action] for action in actions])\n",
    "    max_action = np.argmax(values)\n",
    "\n",
    "    return max_action"
   ]
  },
  {
   "cell_type": "code",
   "execution_count": 14,
   "id": "b59caf6d",
   "metadata": {},
   "outputs": [],
   "source": [
    "NUM_ITERATIONS = 30000\n",
    "LR = 0.1 # Try 0.01 or even 0.01\n",
    "DISCOUNT_FACTOR = 0.95 # Try 0.99\n",
    "EPSILON_START = 1.0\n",
    "EPSILON_END = 0.01\n",
    "ACTION_SPACE = [action for action in range(env.action_space.n)]"
   ]
  },
  {
   "cell_type": "code",
   "execution_count": 15,
   "id": "268cf732",
   "metadata": {},
   "outputs": [],
   "source": [
    "# Creating state list where we have tuples of each part (velocity and position) that creates observation space\n",
    "states = []\n",
    "for position in range(len(position_space)+1):\n",
    "    for velocity in range(len(velocity_space)+1):\n",
    "        states.append((position, velocity))"
   ]
  },
  {
   "cell_type": "code",
   "execution_count": 16,
   "id": "0c9afc9a",
   "metadata": {},
   "outputs": [],
   "source": [
    "# Creating Q table, basically giving a value to state-action dictionary\n",
    "Q_table = {}\n",
    "for state in states:\n",
    "    for action in ACTION_SPACE:\n",
    "        Q_table[state, action] = 0"
   ]
  },
  {
   "cell_type": "code",
   "execution_count": 17,
   "id": "be4d6867",
   "metadata": {
    "scrolled": true
   },
   "outputs": [
    {
     "name": "stdout",
     "output_type": "stream",
     "text": [
      "Episode: 1000, Score: -1000.0, Epsilon: 0.9333333333333407\n",
      "Episode: 2000, Score: -1000.0, Epsilon: 0.8666666666666814\n",
      "Episode: 3000, Score: -644.0, Epsilon: 0.800000000000022\n",
      "Episode: 4000, Score: -704.0, Epsilon: 0.7333333333333627\n",
      "Episode: 5000, Score: -488.0, Epsilon: 0.6666666666667034\n",
      "Episode: 6000, Score: -495.0, Epsilon: 0.600000000000044\n",
      "Episode: 7000, Score: -324.0, Epsilon: 0.5333333333333847\n",
      "Episode: 8000, Score: -230.0, Epsilon: 0.4666666666667254\n",
      "Episode: 9000, Score: -300.0, Epsilon: 0.4000000000000661\n",
      "Episode: 10000, Score: -311.0, Epsilon: 0.33333333333340676\n",
      "Episode: 11000, Score: -238.0, Epsilon: 0.26666666666674743\n",
      "Episode: 12000, Score: -158.0, Epsilon: 0.2000000000000881\n",
      "Episode: 13000, Score: -224.0, Epsilon: 0.13333333333342878\n",
      "Episode: 14000, Score: -151.0, Epsilon: 0.06666666666675732\n",
      "Episode: 15000, Score: -151.0, Epsilon: 0.01\n",
      "Episode: 16000, Score: -161.0, Epsilon: 0.01\n",
      "Episode: 17000, Score: -144.0, Epsilon: 0.01\n",
      "Episode: 18000, Score: -157.0, Epsilon: 0.01\n",
      "Episode: 19000, Score: -143.0, Epsilon: 0.01\n",
      "Episode: 20000, Score: -135.0, Epsilon: 0.01\n",
      "Episode: 21000, Score: -143.0, Epsilon: 0.01\n",
      "Episode: 22000, Score: -141.0, Epsilon: 0.01\n",
      "Episode: 23000, Score: -147.0, Epsilon: 0.01\n",
      "Episode: 24000, Score: -140.0, Epsilon: 0.01\n",
      "Episode: 25000, Score: -148.0, Epsilon: 0.01\n",
      "Episode: 26000, Score: -151.0, Epsilon: 0.01\n",
      "Episode: 27000, Score: -145.0, Epsilon: 0.01\n",
      "Episode: 28000, Score: -152.0, Epsilon: 0.01\n",
      "Episode: 29000, Score: -310.0, Epsilon: 0.01\n"
     ]
    }
   ],
   "source": [
    "score_history, epsilon_history = [], []\n",
    "epsilon = EPSILON_START\n",
    "\n",
    "for iteration in range(NUM_ITERATIONS):\n",
    "    done = False\n",
    "    obs = env.reset()\n",
    "    state = get_state(obs)\n",
    "    \n",
    "    score = 0\n",
    "    while not done:\n",
    "        if np.random.random() >= epsilon:\n",
    "            action = get_max_action(Q_table, state, ACTION_SPACE)\n",
    "        else:\n",
    "            action = np.random.choice(ACTION_SPACE)\n",
    "        \n",
    "        new_obs, reward, done, _ = env.step(action)\n",
    "        new_state = get_state(new_obs)\n",
    "        \n",
    "        score += reward\n",
    "        \n",
    "        new_action = get_max_action(Q_table, new_state, ACTION_SPACE)\n",
    "        Q_table[state, action] = Q_table[state, action] + LR * (reward + DISCOUNT_FACTOR * Q_table[new_state, new_action] - Q_table[state, action])\n",
    "        \n",
    "        state = new_state\n",
    "\n",
    "    if iteration % 1000 == 0 and iteration != 0:\n",
    "        print(f\"Episode: {iteration}, Score: {score}, Epsilon: {epsilon}\")\n",
    "    \n",
    "    score_history.append(score)\n",
    "    epsilon_history.append(epsilon)\n",
    "    epsilon = epsilon - 2 / NUM_ITERATIONS if epsilon > EPSILON_END else EPSILON_END\n",
    "    "
   ]
  },
  {
   "cell_type": "code",
   "execution_count": 18,
   "id": "5a86de5b",
   "metadata": {},
   "outputs": [
    {
     "name": "stdout",
     "output_type": "stream",
     "text": [
      "Total rewards is: -160.0\n"
     ]
    }
   ],
   "source": [
    "# Testing\n",
    "obs = env.reset()\n",
    "state = get_state(obs)\n",
    "done = False\n",
    "score = 0\n",
    "frames = []\n",
    "\n",
    "while not done:\n",
    "    action = get_max_action(Q_table, state)\n",
    "    new_obs, reward, done, _ = env.step(action)\n",
    "    score += reward\n",
    "    \n",
    "    new_state = get_state(new_obs)\n",
    "    state = new_state\n",
    "    frames.append(Image.fromarray(env.render(mode=\"rgb_array\")))\n",
    "    \n",
    "print(f\"Total rewards is: {score}\")\n",
    "env.close()"
   ]
  },
  {
   "cell_type": "code",
   "execution_count": 19,
   "id": "f561f360",
   "metadata": {},
   "outputs": [],
   "source": [
    "# Creating a gif\n",
    "frames[0].save(\"MountainCar Q Learning After Training.gif\", save_all=True, append_images=frames[1:], duration=20, loop=0)"
   ]
  },
  {
   "cell_type": "code",
   "execution_count": 39,
   "id": "56781b0e",
   "metadata": {},
   "outputs": [],
   "source": [
    "def plot_training(x_label, y_label, values, legend_labels, colors, average_freq, xlim, ylim, figsize=(12, 10), filename=None):\n",
    "    assert len(values) == len(legend_labels) == len(colors)\n",
    "    \n",
    "    # Creating a figure\n",
    "    fig = plt.figure(figsize=figsize)\n",
    "    plt.xlabel(x_label, color=\"black\")\n",
    "    plt.ylabel(y_label, color=\"black\")\n",
    "    \n",
    "    for value, label, color in zip(values, legend_labels, colors):\n",
    "        value_len = len(value)\n",
    "        running_average = np.empty(value_len)\n",
    "        for timestep in range(average_freq, value_len):\n",
    "            running_average[timestep] = np.mean(value[timestep-average_freq:timestep+1])\n",
    "        \n",
    "        plt.plot([x_value for x_value in range(value_len)], running_average, color=color, label=label)\n",
    "        \n",
    "    plt.xlim(1, xlim)\n",
    "    plt.ylim(ylim, 0)\n",
    "    plt.legend()\n",
    "\n",
    "    # Save if needed\n",
    "    if filename is not None:\n",
    "        plt.savefig(filename)\n",
    "        \n",
    "    plt.show()"
   ]
  },
  {
   "cell_type": "code",
   "execution_count": 43,
   "id": "3b325a12",
   "metadata": {},
   "outputs": [
    {
     "data": {
      "image/png": "[encoded data removed]",
      "text/plain": [
       "<Figure size 864x720 with 1 Axes>"
      ]
     },
     "metadata": {
      "needs_background": "light"
     },
     "output_type": "display_data"
    }
   ],
   "source": [
    "plot_training(\"Episode\", \"Reward\", [score_history], [\"Q Learning\"], [\"purple\"], 500, NUM_ITERATIONS, -1000, filename=\"Q learning on MountainCar.png\")"
   ]
  }
 ],
 "metadata": {
  "kernelspec": {
   "display_name": "Python 3 (ipykernel)",
   "language": "python",
   "name": "python3"
  },
  "language_info": {
   "codemirror_mode": {
    "name": "ipython",
    "version": 3
   },
   "file_extension": ".py",
   "mimetype": "text/x-python",
   "name": "python",
   "nbconvert_exporter": "python",
   "pygments_lexer": "ipython3",
   "version": "3.9.9"
  }
 },
 "nbformat": 4,
 "nbformat_minor": 5
}
